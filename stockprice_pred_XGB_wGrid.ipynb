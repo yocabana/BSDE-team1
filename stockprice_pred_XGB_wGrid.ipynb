{
  "nbformat": 4,
  "nbformat_minor": 0,
  "metadata": {
    "colab": {
      "name": "stockprice_pred_XGB_wGrid.ipynb",
      "provenance": [],
      "collapsed_sections": []
    },
    "kernelspec": {
      "display_name": "Python 3",
      "name": "python3"
    },
    "language_info": {
      "name": "python"
    },
    "accelerator": "TPU"
  },
  "cells": [
    {
      "cell_type": "code",
      "metadata": {
        "colab": {
          "base_uri": "https://localhost:8080/"
        },
        "id": "VCFU-EzGuHO4",
        "outputId": "63e16667-ce74-4e91-b60b-171d76891695"
      },
      "source": [
        "from google.colab import drive\n",
        "drive.mount('/content/drive')"
      ],
      "execution_count": null,
      "outputs": [
        {
          "output_type": "stream",
          "name": "stdout",
          "text": [
            "Mounted at /content/drive\n"
          ]
        }
      ]
    },
    {
      "cell_type": "markdown",
      "metadata": {
        "id": "BSG8Xj7joake"
      },
      "source": [
        "# XGBoost(迴歸)-last"
      ]
    },
    {
      "cell_type": "markdown",
      "metadata": {
        "id": "Xm-p8URSokeC"
      },
      "source": [
        "流程 : \n",
        "1.   標記label\n",
        "2.   刪除不需要的欄位\n",
        "3.   資料切割\n",
        "4.   StandardScaler(標準化)\n",
        "5.   Grid Search CV(超參數)\n",
        "6.   XGBRegressor(模型預測)\n",
        "7.   輸出儲存圖檔"
      ]
    },
    {
      "cell_type": "code",
      "metadata": {
        "id": "RQBp4QvYoshS"
      },
      "source": [
        "i = 2317\n",
        "day = -1\n",
        "split = 0.8"
      ],
      "execution_count": null,
      "outputs": []
    },
    {
      "cell_type": "code",
      "metadata": {
        "id": "POokgUJomLLY"
      },
      "source": [
        "#df = pd.read_csv(f'/content/drive/MyDrive/BDSE21_Team1/Final_Project_Old/Dataset/Stock_Data/{i}.csv',index_col=0);df"
      ],
      "execution_count": null,
      "outputs": []
    },
    {
      "cell_type": "code",
      "metadata": {
        "colab": {
          "base_uri": "https://localhost:8080/",
          "height": 221
        },
        "id": "uj90wlkAoakf",
        "outputId": "5fe61144-c756-48fb-d4c4-f306923bcb2d"
      },
      "source": [
        "import pandas as pd\n",
        "import numpy as np\n",
        "import xgboost as xgb\n",
        "df = pd.read_csv('/content/drive/MyDrive/Sentiment_Result_NLP/2317_price_dict.csv')\n",
        "df = df[(df['date'] > '2016-04-11') & (df['date'] < '2021-06-30')]\n",
        "# pd.set_option('display.max_colwidth',None)\n",
        "# pd.set_option('display.max_rows',None)\n",
        "# for days in [1,5,10,20,60]:\n",
        "#   df = df.drop(columns=[f'{days}days_price',f'{days}days_self',f'{days}days_twii',f'{days}days_0050',f'{days}days_2330'])\n",
        "# df = df[['open','high','low','close','volume','ht_dcperiod','ht_dcphase','inphase']]\n",
        "# df.index = df['date']\n",
        "#df = df[['open','high','low','close','volume','dict_score']]\n",
        "# df.index = df['date']\n",
        "print(df.shape)\n",
        "df.head()"
      ],
      "execution_count": null,
      "outputs": [
        {
          "output_type": "stream",
          "name": "stdout",
          "text": [
            "(1271, 9)\n"
          ]
        },
        {
          "output_type": "execute_result",
          "data": {
            "text/html": [
              "<div>\n",
              "<style scoped>\n",
              "    .dataframe tbody tr th:only-of-type {\n",
              "        vertical-align: middle;\n",
              "    }\n",
              "\n",
              "    .dataframe tbody tr th {\n",
              "        vertical-align: top;\n",
              "    }\n",
              "\n",
              "    .dataframe thead th {\n",
              "        text-align: right;\n",
              "    }\n",
              "</style>\n",
              "<table border=\"1\" class=\"dataframe\">\n",
              "  <thead>\n",
              "    <tr style=\"text-align: right;\">\n",
              "      <th></th>\n",
              "      <th>date</th>\n",
              "      <th>open</th>\n",
              "      <th>high</th>\n",
              "      <th>low</th>\n",
              "      <th>close</th>\n",
              "      <th>volume</th>\n",
              "      <th>lstm_label</th>\n",
              "      <th>dict_score</th>\n",
              "      <th>bert</th>\n",
              "    </tr>\n",
              "  </thead>\n",
              "  <tbody>\n",
              "    <tr>\n",
              "      <th>1544</th>\n",
              "      <td>2016-04-12</td>\n",
              "      <td>72.996482</td>\n",
              "      <td>73.710382</td>\n",
              "      <td>72.461057</td>\n",
              "      <td>73.174957</td>\n",
              "      <td>13434080</td>\n",
              "      <td>2.0</td>\n",
              "      <td>6.0</td>\n",
              "      <td>1.0</td>\n",
              "    </tr>\n",
              "    <tr>\n",
              "      <th>1545</th>\n",
              "      <td>2016-04-13</td>\n",
              "      <td>73.442669</td>\n",
              "      <td>74.781234</td>\n",
              "      <td>73.442669</td>\n",
              "      <td>74.691994</td>\n",
              "      <td>29533680</td>\n",
              "      <td>2.0</td>\n",
              "      <td>1.0</td>\n",
              "      <td>1.0</td>\n",
              "    </tr>\n",
              "    <tr>\n",
              "      <th>1546</th>\n",
              "      <td>2016-04-14</td>\n",
              "      <td>74.067337</td>\n",
              "      <td>74.781237</td>\n",
              "      <td>73.531906</td>\n",
              "      <td>73.531906</td>\n",
              "      <td>20081600</td>\n",
              "      <td>-2.0</td>\n",
              "      <td>3.0</td>\n",
              "      <td>1.0</td>\n",
              "    </tr>\n",
              "    <tr>\n",
              "      <th>1547</th>\n",
              "      <td>2016-04-15</td>\n",
              "      <td>73.353431</td>\n",
              "      <td>74.245811</td>\n",
              "      <td>72.907246</td>\n",
              "      <td>73.978096</td>\n",
              "      <td>16226320</td>\n",
              "      <td>NaN</td>\n",
              "      <td>NaN</td>\n",
              "      <td>NaN</td>\n",
              "    </tr>\n",
              "    <tr>\n",
              "      <th>1548</th>\n",
              "      <td>2016-04-18</td>\n",
              "      <td>74.245819</td>\n",
              "      <td>74.245819</td>\n",
              "      <td>73.621154</td>\n",
              "      <td>73.710388</td>\n",
              "      <td>12326160</td>\n",
              "      <td>NaN</td>\n",
              "      <td>NaN</td>\n",
              "      <td>NaN</td>\n",
              "    </tr>\n",
              "  </tbody>\n",
              "</table>\n",
              "</div>"
            ],
            "text/plain": [
              "            date       open       high  ...  lstm_label  dict_score  bert\n",
              "1544  2016-04-12  72.996482  73.710382  ...         2.0         6.0   1.0\n",
              "1545  2016-04-13  73.442669  74.781234  ...         2.0         1.0   1.0\n",
              "1546  2016-04-14  74.067337  74.781237  ...        -2.0         3.0   1.0\n",
              "1547  2016-04-15  73.353431  74.245811  ...         NaN         NaN   NaN\n",
              "1548  2016-04-18  74.245819  74.245819  ...         NaN         NaN   NaN\n",
              "\n",
              "[5 rows x 9 columns]"
            ]
          },
          "metadata": {},
          "execution_count": 11
        }
      ]
    },
    {
      "cell_type": "code",
      "metadata": {
        "id": "YBBPfughH6Gz"
      },
      "source": [
        "# 檢視欄位是否有nan\n",
        "pd.isna(df['lstm_label']) \n",
        "df['bert']=df['bert'].fillna(0)\n",
        "#df = df.replace('NaN', 0)"
      ],
      "execution_count": null,
      "outputs": []
    },
    {
      "cell_type": "code",
      "metadata": {
        "colab": {
          "base_uri": "https://localhost:8080/",
          "height": 204
        },
        "id": "geB_tSi-JYzv",
        "outputId": "1a658bcf-bf1f-4d23-cce0-93173fa8e438"
      },
      "source": [
        "df.head()"
      ],
      "execution_count": null,
      "outputs": [
        {
          "output_type": "execute_result",
          "data": {
            "text/html": [
              "<div>\n",
              "<style scoped>\n",
              "    .dataframe tbody tr th:only-of-type {\n",
              "        vertical-align: middle;\n",
              "    }\n",
              "\n",
              "    .dataframe tbody tr th {\n",
              "        vertical-align: top;\n",
              "    }\n",
              "\n",
              "    .dataframe thead th {\n",
              "        text-align: right;\n",
              "    }\n",
              "</style>\n",
              "<table border=\"1\" class=\"dataframe\">\n",
              "  <thead>\n",
              "    <tr style=\"text-align: right;\">\n",
              "      <th></th>\n",
              "      <th>date</th>\n",
              "      <th>open</th>\n",
              "      <th>high</th>\n",
              "      <th>low</th>\n",
              "      <th>close</th>\n",
              "      <th>volume</th>\n",
              "      <th>lstm_label</th>\n",
              "      <th>dict_score</th>\n",
              "      <th>bert</th>\n",
              "    </tr>\n",
              "  </thead>\n",
              "  <tbody>\n",
              "    <tr>\n",
              "      <th>1544</th>\n",
              "      <td>2016-04-12</td>\n",
              "      <td>72.996482</td>\n",
              "      <td>73.710382</td>\n",
              "      <td>72.461057</td>\n",
              "      <td>73.174957</td>\n",
              "      <td>13434080</td>\n",
              "      <td>2.0</td>\n",
              "      <td>6.0</td>\n",
              "      <td>1.0</td>\n",
              "    </tr>\n",
              "    <tr>\n",
              "      <th>1545</th>\n",
              "      <td>2016-04-13</td>\n",
              "      <td>73.442669</td>\n",
              "      <td>74.781234</td>\n",
              "      <td>73.442669</td>\n",
              "      <td>74.691994</td>\n",
              "      <td>29533680</td>\n",
              "      <td>2.0</td>\n",
              "      <td>1.0</td>\n",
              "      <td>1.0</td>\n",
              "    </tr>\n",
              "    <tr>\n",
              "      <th>1546</th>\n",
              "      <td>2016-04-14</td>\n",
              "      <td>74.067337</td>\n",
              "      <td>74.781237</td>\n",
              "      <td>73.531906</td>\n",
              "      <td>73.531906</td>\n",
              "      <td>20081600</td>\n",
              "      <td>-2.0</td>\n",
              "      <td>3.0</td>\n",
              "      <td>1.0</td>\n",
              "    </tr>\n",
              "    <tr>\n",
              "      <th>1547</th>\n",
              "      <td>2016-04-15</td>\n",
              "      <td>73.353431</td>\n",
              "      <td>74.245811</td>\n",
              "      <td>72.907246</td>\n",
              "      <td>73.978096</td>\n",
              "      <td>16226320</td>\n",
              "      <td>NaN</td>\n",
              "      <td>NaN</td>\n",
              "      <td>0.0</td>\n",
              "    </tr>\n",
              "    <tr>\n",
              "      <th>1548</th>\n",
              "      <td>2016-04-18</td>\n",
              "      <td>74.245819</td>\n",
              "      <td>74.245819</td>\n",
              "      <td>73.621154</td>\n",
              "      <td>73.710388</td>\n",
              "      <td>12326160</td>\n",
              "      <td>NaN</td>\n",
              "      <td>NaN</td>\n",
              "      <td>0.0</td>\n",
              "    </tr>\n",
              "  </tbody>\n",
              "</table>\n",
              "</div>"
            ],
            "text/plain": [
              "            date       open       high  ...  lstm_label  dict_score  bert\n",
              "1544  2016-04-12  72.996482  73.710382  ...         2.0         6.0   1.0\n",
              "1545  2016-04-13  73.442669  74.781234  ...         2.0         1.0   1.0\n",
              "1546  2016-04-14  74.067337  74.781237  ...        -2.0         3.0   1.0\n",
              "1547  2016-04-15  73.353431  74.245811  ...         NaN         NaN   0.0\n",
              "1548  2016-04-18  74.245819  74.245819  ...         NaN         NaN   0.0\n",
              "\n",
              "[5 rows x 9 columns]"
            ]
          },
          "metadata": {},
          "execution_count": 5
        }
      ]
    },
    {
      "cell_type": "code",
      "metadata": {
        "id": "Ol1qZAXvNNGt"
      },
      "source": [
        "#df=df.drop(columns=['date','lstm_label','dict_score'])\n",
        "df=df.drop(columns=['bert'])"
      ],
      "execution_count": null,
      "outputs": []
    },
    {
      "cell_type": "code",
      "metadata": {
        "id": "Fb7cQd-OfvQu"
      },
      "source": [
        "# 隔日收盤價標記為label\n",
        "df['label']=df['close'].shift(day)\n",
        "# 刪除最後一筆沒有label的資料\n",
        "df = df.iloc[:day,:]\n",
        "# 移除日期與Nan欄位\n",
        "# df = df.drop(columns=['date'])\n",
        "# df = df[['open','high','low','close','volume','']]\n",
        "# df = df.drop(columns=['acos', 'asin','cosh','exp','sinh','date'])\n",
        "# 檢視所有欄位是否有nan\n",
        "# pd.set_option('display.max_rows',None)\n",
        "# df.isnull().sum()"
      ],
      "execution_count": null,
      "outputs": []
    },
    {
      "cell_type": "code",
      "metadata": {
        "colab": {
          "base_uri": "https://localhost:8080/",
          "height": 419
        },
        "id": "gNvqlwL0Nysx",
        "outputId": "b297350b-5533-46db-da1a-84b6a6d8ddf5"
      },
      "source": [
        "df"
      ],
      "execution_count": null,
      "outputs": [
        {
          "output_type": "execute_result",
          "data": {
            "text/html": [
              "<div>\n",
              "<style scoped>\n",
              "    .dataframe tbody tr th:only-of-type {\n",
              "        vertical-align: middle;\n",
              "    }\n",
              "\n",
              "    .dataframe tbody tr th {\n",
              "        vertical-align: top;\n",
              "    }\n",
              "\n",
              "    .dataframe thead th {\n",
              "        text-align: right;\n",
              "    }\n",
              "</style>\n",
              "<table border=\"1\" class=\"dataframe\">\n",
              "  <thead>\n",
              "    <tr style=\"text-align: right;\">\n",
              "      <th></th>\n",
              "      <th>open</th>\n",
              "      <th>high</th>\n",
              "      <th>low</th>\n",
              "      <th>close</th>\n",
              "      <th>volume</th>\n",
              "      <th>label</th>\n",
              "    </tr>\n",
              "  </thead>\n",
              "  <tbody>\n",
              "    <tr>\n",
              "      <th>1544</th>\n",
              "      <td>72.996482</td>\n",
              "      <td>73.710382</td>\n",
              "      <td>72.461057</td>\n",
              "      <td>73.174957</td>\n",
              "      <td>13434080</td>\n",
              "      <td>74.691994</td>\n",
              "    </tr>\n",
              "    <tr>\n",
              "      <th>1545</th>\n",
              "      <td>73.442669</td>\n",
              "      <td>74.781234</td>\n",
              "      <td>73.442669</td>\n",
              "      <td>74.691994</td>\n",
              "      <td>29533680</td>\n",
              "      <td>73.531906</td>\n",
              "    </tr>\n",
              "    <tr>\n",
              "      <th>1546</th>\n",
              "      <td>74.067337</td>\n",
              "      <td>74.781237</td>\n",
              "      <td>73.531906</td>\n",
              "      <td>73.531906</td>\n",
              "      <td>20081600</td>\n",
              "      <td>73.978096</td>\n",
              "    </tr>\n",
              "    <tr>\n",
              "      <th>1547</th>\n",
              "      <td>73.353431</td>\n",
              "      <td>74.245811</td>\n",
              "      <td>72.907246</td>\n",
              "      <td>73.978096</td>\n",
              "      <td>16226320</td>\n",
              "      <td>73.710388</td>\n",
              "    </tr>\n",
              "    <tr>\n",
              "      <th>1548</th>\n",
              "      <td>74.245819</td>\n",
              "      <td>74.245819</td>\n",
              "      <td>73.621154</td>\n",
              "      <td>73.710388</td>\n",
              "      <td>12326160</td>\n",
              "      <td>72.728767</td>\n",
              "    </tr>\n",
              "    <tr>\n",
              "      <th>...</th>\n",
              "      <td>...</td>\n",
              "      <td>...</td>\n",
              "      <td>...</td>\n",
              "      <td>...</td>\n",
              "      <td>...</td>\n",
              "      <td>...</td>\n",
              "    </tr>\n",
              "    <tr>\n",
              "      <th>2809</th>\n",
              "      <td>105.606672</td>\n",
              "      <td>106.088894</td>\n",
              "      <td>104.642227</td>\n",
              "      <td>104.642227</td>\n",
              "      <td>21910960</td>\n",
              "      <td>107.535561</td>\n",
              "    </tr>\n",
              "    <tr>\n",
              "      <th>2810</th>\n",
              "      <td>105.124449</td>\n",
              "      <td>108.017783</td>\n",
              "      <td>104.642227</td>\n",
              "      <td>107.535561</td>\n",
              "      <td>27710302</td>\n",
              "      <td>108.982224</td>\n",
              "    </tr>\n",
              "    <tr>\n",
              "      <th>2811</th>\n",
              "      <td>107.535557</td>\n",
              "      <td>109.946668</td>\n",
              "      <td>107.053335</td>\n",
              "      <td>108.982224</td>\n",
              "      <td>31065987</td>\n",
              "      <td>108.982224</td>\n",
              "    </tr>\n",
              "    <tr>\n",
              "      <th>2812</th>\n",
              "      <td>109.946668</td>\n",
              "      <td>110.911112</td>\n",
              "      <td>108.982224</td>\n",
              "      <td>108.982224</td>\n",
              "      <td>35574740</td>\n",
              "      <td>107.535561</td>\n",
              "    </tr>\n",
              "    <tr>\n",
              "      <th>2813</th>\n",
              "      <td>108.982227</td>\n",
              "      <td>109.464450</td>\n",
              "      <td>107.053338</td>\n",
              "      <td>107.535561</td>\n",
              "      <td>23702001</td>\n",
              "      <td>107.535561</td>\n",
              "    </tr>\n",
              "  </tbody>\n",
              "</table>\n",
              "<p>1270 rows × 6 columns</p>\n",
              "</div>"
            ],
            "text/plain": [
              "            open        high         low       close    volume       label\n",
              "1544   72.996482   73.710382   72.461057   73.174957  13434080   74.691994\n",
              "1545   73.442669   74.781234   73.442669   74.691994  29533680   73.531906\n",
              "1546   74.067337   74.781237   73.531906   73.531906  20081600   73.978096\n",
              "1547   73.353431   74.245811   72.907246   73.978096  16226320   73.710388\n",
              "1548   74.245819   74.245819   73.621154   73.710388  12326160   72.728767\n",
              "...          ...         ...         ...         ...       ...         ...\n",
              "2809  105.606672  106.088894  104.642227  104.642227  21910960  107.535561\n",
              "2810  105.124449  108.017783  104.642227  107.535561  27710302  108.982224\n",
              "2811  107.535557  109.946668  107.053335  108.982224  31065987  108.982224\n",
              "2812  109.946668  110.911112  108.982224  108.982224  35574740  107.535561\n",
              "2813  108.982227  109.464450  107.053338  107.535561  23702001  107.535561\n",
              "\n",
              "[1270 rows x 6 columns]"
            ]
          },
          "metadata": {},
          "execution_count": 30
        }
      ]
    },
    {
      "cell_type": "code",
      "metadata": {
        "id": "C32ib2eNfZz4"
      },
      "source": [
        "# 資料切割\n",
        "X, y = df.iloc[:,:-1],df.iloc[:,-1]\n",
        "train_size = int(len(X.index) * 0.80)  # test半年\n",
        "X_train, X_test = X.iloc[:train_size,:], X.iloc[train_size:,:]\n",
        "y_train, y_test = y.iloc[:train_size], y.iloc[train_size:]\n",
        "df_validation = df.sample(frac=1-split)\n",
        "df_training = df.append(df_validation)\n",
        "df_training = df_training.drop_duplicates(keep=False)\n",
        "df_training_ans = df_training['label']\n",
        "df_validation_ans = df_validation['label']\n",
        "df_training = df_training.drop(columns='label')\n",
        "df_validation = df_validation.drop(columns='label')\n",
        "y_test = y_test.reset_index(drop=True)\n",
        "\n",
        "# 標準化\n",
        "from sklearn.preprocessing import StandardScaler\n",
        "sc = StandardScaler()\n",
        "X_train = sc.fit_transform(X_train)\n",
        "X_test = sc.transform(X_test)\n",
        "df_training = sc.fit_transform(df_training)\n",
        "df_validation = sc.transform(df_validation)\n",
        "# # PCA降維(暫時不使用)\n",
        "# from sklearn.decomposition import PCA\n",
        "# pca = PCA(n_components=100)\n",
        "# X_train = pca.fit_transform(X_train)\n",
        "# X_test = pca.fit_transform(X_test)\n",
        "\n",
        "# # xgboost 套件的資料結構DMatrix(Xgboost原生介面用)\n",
        "# data_dmatrix = xgb.DMatrix(X_train,y_train)"
      ],
      "execution_count": null,
      "outputs": []
    },
    {
      "cell_type": "code",
      "metadata": {
        "id": "jP1hpXtHoakg"
      },
      "source": [
        "# 自定義GridSearchCV(可用於各類套件EX : Keras、sklearn、XGBoost、LightGBM)\n",
        "def algorithm_pipeline(X_train_data, X_test_data, y_train_data, y_test_data, \n",
        "                       model, param_grid, cv=10, scoring_fit='neg_mean_squared_error',\n",
        "                       do_probabilities = False):\n",
        "    gs = GridSearchCV(\n",
        "        estimator=model,\n",
        "        param_grid=param_grid, \n",
        "        cv=cv, \n",
        "        n_jobs=-1, # 設定使用的CPU內核(-1意味著我們使用所有可用的CPU內核)\n",
        "        scoring=scoring_fit,\n",
        "        verbose=2\n",
        "    )\n",
        "    fitted_model = gs.fit(X_train_data, y_train_data)\n",
        "    \n",
        "    if do_probabilities:\n",
        "      pred = fitted_model.predict_proba(X_test_data)\n",
        "    else:\n",
        "      pred = fitted_model.predict(X_test_data)\n",
        "    \n",
        "    return fitted_model, pred"
      ],
      "execution_count": null,
      "outputs": []
    },
    {
      "cell_type": "code",
      "metadata": {
        "colab": {
          "base_uri": "https://localhost:8080/"
        },
        "id": "A2uQ1Zekoakg",
        "outputId": "35d49de5-ecbd-4a4c-c6d3-fc190ade2237"
      },
      "source": [
        "# 用GridSearchCV尋找最佳超參數\n",
        "from sklearn.model_selection import GridSearchCV\n",
        "model = xgb.XGBRegressor()\n",
        "# 設定要最佳化的參數\n",
        "param_grid = {\n",
        "    'booster': ['gblinear'],        # 線性模型   參數說明 : 有兩中模型可以選擇gbtree和gblinear。gbtree使用基於樹的模型進行提升計算，gblinear使用線性模型進行提升計算。預設值為gbtree。\n",
        "    'objective': ['reg:linear'],      # 線性迴歸   參數說明 : 指定學習任務和相應的學習目標或要使用的自定義目標函數。\n",
        "    'n_estimators': [100,200,300,400],   #        參數說明 : 梯度提升樹的數量。\n",
        "    'colsample_bytree': [0.3,0.4,0.5],    #        參數說明 : Subsample ratio of columns when constructing each tree.\n",
        "    'max_depth': [1,5,10,15,20,25],        #        參數說明 : 最大樹深度。\n",
        "    'reg_alpha': [0.6,0.7,0.8,0.9],     #        參數說明 : L2 正則的懲罰係數。 \n",
        "    'reg_lambda': [0.6,0.7,0.8,0.9],    #        參數說明 : L1 正則的懲罰係數。\n",
        "    'subsample': [0.3,0.4,0.5,0.6]     #        參數說明 : Subsample ratio of the training instance.比率,若將其設置為 0.5 意味著 XGBoost 將在種植樹木之前隨機採樣一半的訓練數據。這將防止過度擬合。子採樣將在每次提升迭代中發生一次。\n",
        "}\n",
        "\n",
        "model, pred = algorithm_pipeline(X_train, X_test, y_train, y_test, model, \n",
        "                                 param_grid, cv=5)\n",
        "# Root Mean Squared Error\n",
        "print(np.sqrt(-model.best_score_))\n",
        "print(model.best_params_)"
      ],
      "execution_count": null,
      "outputs": [
        {
          "output_type": "stream",
          "name": "stdout",
          "text": [
            "Fitting 5 folds for each of 4608 candidates, totalling 23040 fits\n"
          ]
        },
        {
          "output_type": "stream",
          "name": "stderr",
          "text": [
            "[Parallel(n_jobs=-1)]: Using backend LokyBackend with 2 concurrent workers.\n",
            "[Parallel(n_jobs=-1)]: Done  86 tasks      | elapsed:    2.7s\n",
            "[Parallel(n_jobs=-1)]: Done 570 tasks      | elapsed:   13.9s\n",
            "[Parallel(n_jobs=-1)]: Done 1382 tasks      | elapsed:   47.3s\n",
            "[Parallel(n_jobs=-1)]: Done 2514 tasks      | elapsed:  1.5min\n",
            "[Parallel(n_jobs=-1)]: Done 3974 tasks      | elapsed:  2.3min\n",
            "[Parallel(n_jobs=-1)]: Done 5754 tasks      | elapsed:  3.2min\n",
            "[Parallel(n_jobs=-1)]: Done 7862 tasks      | elapsed:  4.5min\n",
            "[Parallel(n_jobs=-1)]: Done 10290 tasks      | elapsed:  6.0min\n",
            "[Parallel(n_jobs=-1)]: Done 13046 tasks      | elapsed:  7.5min\n",
            "[Parallel(n_jobs=-1)]: Done 16122 tasks      | elapsed:  9.2min\n",
            "[Parallel(n_jobs=-1)]: Done 19526 tasks      | elapsed: 11.2min\n"
          ]
        },
        {
          "output_type": "stream",
          "name": "stdout",
          "text": [
            "[04:40:18] WARNING: /workspace/src/objective/regression_obj.cu:152: reg:linear is now deprecated in favor of reg:squarederror.\n",
            "5.762850571697347\n",
            "{'booster': 'gblinear', 'colsample_bytree': 0.3, 'max_depth': 1, 'n_estimators': 200, 'objective': 'reg:linear', 'reg_alpha': 0.6, 'reg_lambda': 0.6, 'subsample': 0.3}\n"
          ]
        },
        {
          "output_type": "stream",
          "name": "stderr",
          "text": [
            "[Parallel(n_jobs=-1)]: Done 23040 out of 23040 | elapsed: 13.3min finished\n"
          ]
        }
      ]
    },
    {
      "cell_type": "code",
      "metadata": {
        "colab": {
          "base_uri": "https://localhost:8080/"
        },
        "id": "E0t6iVZ3ngSk",
        "outputId": "3070da15-87a4-4ec0-c2d4-3556736dc7b2"
      },
      "source": [
        "# 使用最佳參數進行預測\n",
        "from xgboost import plot_importance\n",
        "import matplotlib.pyplot  as plt\n",
        "from sklearn.metrics import mean_squared_error\n",
        "from sklearn import metrics\n",
        "from xgboost import XGBRegressor\n",
        "params = model.best_params_\n",
        "model1 = xgb.XGBRegressor(booster= params['booster'],\n",
        "            objective= params['objective'],\n",
        "            n_estimators= params['n_estimators'],\n",
        "             colsample_bytree= params['colsample_bytree'],\n",
        "             max_depth= params['max_depth'],\n",
        "            reg_alpha= params['reg_alpha'],\n",
        "            reg_lambda= params['reg_lambda'],\n",
        "           subsample= params['subsample']\n",
        "           )\n",
        "\n",
        "model1.fit(X_train, y_train)\n",
        "\n",
        "# 對測試集進行預測\n",
        "ans = model1.predict(X_test)\n",
        "# RMSE是一種非常常見的評價指標 它的範圍可以是0到無窮大 值越低越好\n",
        "rmse = np.sqrt(mean_squared_error(y_test, ans))\n",
        "print(\"RMSE 為%f\" % (rmse))\n",
        "print(\"R square of Train data:\",model1.score(X_train,y_train))\n",
        "print(\"R square of Test data:\",model1.score(X_test,y_test))"
      ],
      "execution_count": null,
      "outputs": [
        {
          "output_type": "stream",
          "name": "stdout",
          "text": [
            "[04:40:50] WARNING: /workspace/src/objective/regression_obj.cu:152: reg:linear is now deprecated in favor of reg:squarederror.\n",
            "RMSE 為3.718734\n",
            "R square of Train data: 0.967644608317602\n",
            "R square of Test data: 0.9531936244990007\n"
          ]
        }
      ]
    },
    {
      "cell_type": "code",
      "metadata": {
        "id": "gYuIT0KLosxg"
      },
      "source": [
        "with open(\"file.txt\", \"w\") as output:\n",
        "    output.write(str(result))"
      ],
      "execution_count": null,
      "outputs": []
    },
    {
      "cell_type": "code",
      "metadata": {
        "colab": {
          "base_uri": "https://localhost:8080/",
          "height": 771
        },
        "id": "XbSIxGWgngSl",
        "outputId": "0848df19-e1af-4a8f-dde8-324bfc57e27a"
      },
      "source": [
        "# 輸出並儲存圖檔\n",
        "plt.figure(figsize=(16,12))\n",
        "plt.plot(ans,color='red',label='pred')\n",
        "plt.plot(y_test.to_numpy(),color='blue',label='ans')\n",
        "plt.legend(loc='best')\n",
        "plt.title(f'XGB_withGridSearch_{rmse}', y=1.05, size=20)\n",
        "plt.savefig('/content/drive/MyDrive/Sentiment_Result_NLP/5_sent_predict.png')\n",
        "# plt.savefig(f'{i}_{day}_XGBwithGridSearch')\n",
        "plt.show"
      ],
      "execution_count": null,
      "outputs": [
        {
          "output_type": "execute_result",
          "data": {
            "text/plain": [
              "<function matplotlib.pyplot.show>"
            ]
          },
          "metadata": {},
          "execution_count": 33
        },
        {
          "output_type": "display_data",
          "data": {
            "image/png": "[encoded data removed]",
            "text/plain": [
              "<Figure size 1152x864 with 1 Axes>"
            ]
          },
          "metadata": {
            "needs_background": "light"
          }
        }
      ]
    }
  ]
}